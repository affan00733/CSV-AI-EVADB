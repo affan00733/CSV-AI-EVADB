{
 "cells": [
  {
   "cell_type": "code",
   "execution_count": 2,
   "metadata": {},
   "outputs": [],
   "source": [
    "import evadb\n",
    "from evadb.interfaces.relational.db import connect\n",
    "conn = connect()\n",
    "cursor = conn.cursor()"
   ]
  },
  {
   "cell_type": "code",
   "execution_count": 8,
   "metadata": {},
   "outputs": [
    {
     "data": {
      "text/html": [
       "<div>\n",
       "<style scoped>\n",
       "    .dataframe tbody tr th:only-of-type {\n",
       "        vertical-align: middle;\n",
       "    }\n",
       "\n",
       "    .dataframe tbody tr th {\n",
       "        vertical-align: top;\n",
       "    }\n",
       "\n",
       "    .dataframe thead th {\n",
       "        text-align: right;\n",
       "    }\n",
       "</style>\n",
       "<table border=\"1\" class=\"dataframe\">\n",
       "  <thead>\n",
       "    <tr style=\"text-align: right;\">\n",
       "      <th></th>\n",
       "    </tr>\n",
       "  </thead>\n",
       "  <tbody>\n",
       "  </tbody>\n",
       "</table>\n",
       "</div>"
      ],
      "text/plain": [
       "Empty DataFrame\n",
       "Columns: []\n",
       "Index: []"
      ]
     },
     "execution_count": 8,
     "metadata": {},
     "output_type": "execute_result"
    }
   ],
   "source": [
    "cursor.drop_table(\"MyCSV\").execute()\n",
    "create_table_query = f\"\"\"\n",
    "    CREATE TABLE IF NOT EXISTS MyCSV(\n",
    "        venue_name TEXT(30),\n",
    "        venue_type TEXT(30),\n",
    "        venue_address TEXT(30),\n",
    "        website TEXT(30),\n",
    "        menu_url TEXT(30),\n",
    "        menu_text TEXT(30),\n",
    "        phone TEXT(30),\n",
    "        email TEXT(30),\n",
    "        alcohol TEXT(30),\n",
    "        lunch TEXT(30)\n",
    "    );\n",
    "    \n",
    "    \"\"\"\n",
    "cursor.query(create_table_query).df()"
   ]
  },
  {
   "cell_type": "code",
   "execution_count": 9,
   "metadata": {},
   "outputs": [
    {
     "data": {
      "text/plain": [
       "<evadb.models.storage.batch.Batch at 0x13831c070>"
      ]
     },
     "execution_count": 9,
     "metadata": {},
     "output_type": "execute_result"
    }
   ],
   "source": [
    "cursor.load(file_regex=\"/Users/afaanansari/Desktop/gtech/CSV-AI-EVADB/fishfry-locations.csv\", format=\"CSV\", table_name=\"MyCSV\").execute()"
   ]
  },
  {
   "cell_type": "code",
   "execution_count": 11,
   "metadata": {},
   "outputs": [
    {
     "data": {
      "text/html": [
       "<div>\n",
       "<style scoped>\n",
       "    .dataframe tbody tr th:only-of-type {\n",
       "        vertical-align: middle;\n",
       "    }\n",
       "\n",
       "    .dataframe tbody tr th {\n",
       "        vertical-align: top;\n",
       "    }\n",
       "\n",
       "    .dataframe thead th {\n",
       "        text-align: right;\n",
       "    }\n",
       "</style>\n",
       "<table border=\"1\" class=\"dataframe\">\n",
       "  <thead>\n",
       "    <tr style=\"text-align: right;\">\n",
       "      <th></th>\n",
       "      <th>mycsv._row_id</th>\n",
       "      <th>mycsv.venue_name</th>\n",
       "      <th>mycsv.venue_type</th>\n",
       "      <th>mycsv.venue_address</th>\n",
       "      <th>mycsv.website</th>\n",
       "      <th>mycsv.menu_url</th>\n",
       "      <th>mycsv.menu_text</th>\n",
       "      <th>mycsv.phone</th>\n",
       "      <th>mycsv.email</th>\n",
       "      <th>mycsv.alcohol</th>\n",
       "      <th>mycsv.lunch</th>\n",
       "    </tr>\n",
       "  </thead>\n",
       "  <tbody>\n",
       "    <tr>\n",
       "      <th>0</th>\n",
       "      <td>1</td>\n",
       "      <td>McGinnis Sisters</td>\n",
       "      <td>Market</td>\n",
       "      <td>4311 Northern Pike, Monroeville, PA</td>\n",
       "      <td>http://www.mcginnis-sisters.com/</td>\n",
       "      <td>None</td>\n",
       "      <td>None</td>\n",
       "      <td>412-858-7000</td>\n",
       "      <td>None</td>\n",
       "      <td>None</td>\n",
       "      <td>1</td>\n",
       "    </tr>\n",
       "    <tr>\n",
       "      <th>1</th>\n",
       "      <td>2</td>\n",
       "      <td>Holy Cross (Reilly Center)</td>\n",
       "      <td>Church</td>\n",
       "      <td>7100 West Ridge Road, Fairview PA</td>\n",
       "      <td>http://www.mcginnis-sisters.com/</td>\n",
       "      <td>None</td>\n",
       "      <td>Fried pollack, fried shrimp, or combo. Adult $...</td>\n",
       "      <td>814-474-2605</td>\n",
       "      <td>None</td>\n",
       "      <td>None</td>\n",
       "      <td>1</td>\n",
       "    </tr>\n",
       "    <tr>\n",
       "      <th>2</th>\n",
       "      <td>3</td>\n",
       "      <td>Hartford Heights Volunteer Fire Department</td>\n",
       "      <td>Fire Department</td>\n",
       "      <td>14335 U.S. 30, Irwin, PA 15642</td>\n",
       "      <td>https://www.facebook.com/HHVFD/</td>\n",
       "      <td>https://www.facebook.com/photo.php?fbid=188561...</td>\n",
       "      <td>Fried pollack, fried shrimp, or combo. Adult $...</td>\n",
       "      <td>412-824-9972</td>\n",
       "      <td>None</td>\n",
       "      <td>1</td>\n",
       "      <td>0</td>\n",
       "    </tr>\n",
       "    <tr>\n",
       "      <th>3</th>\n",
       "      <td>4</td>\n",
       "      <td>Beaver Valley Yacht Club</td>\n",
       "      <td>Community Organization</td>\n",
       "      <td>219 Front Street, New Brighton, Pennsylvania 1...</td>\n",
       "      <td>https://www.beavervalleyyachtclub.org/</td>\n",
       "      <td>https://www.facebook.com/photo.php?fbid=188561...</td>\n",
       "      <td>Menu &amp; Cost:\\nEat in or take out. Adult Fish D...</td>\n",
       "      <td>(724) 847-4663</td>\n",
       "      <td>None</td>\n",
       "      <td>1</td>\n",
       "      <td>1</td>\n",
       "    </tr>\n",
       "    <tr>\n",
       "      <th>4</th>\n",
       "      <td>5</td>\n",
       "      <td>Our Lady of Joy, Holiday Park</td>\n",
       "      <td>Church</td>\n",
       "      <td>2000 O'Block Road Holiday Park, PA</td>\n",
       "      <td>http://www.ourladyofjoy.org</td>\n",
       "      <td>https://www.facebook.com/photo.php?fbid=188561...</td>\n",
       "      <td>Menu is a la carte, and features fried or bake...</td>\n",
       "      <td>412-795-3388</td>\n",
       "      <td>None</td>\n",
       "      <td>1</td>\n",
       "      <td>1</td>\n",
       "    </tr>\n",
       "  </tbody>\n",
       "</table>\n",
       "</div>"
      ],
      "text/plain": [
       "   mycsv._row_id                            mycsv.venue_name  \\\n",
       "0              1                            McGinnis Sisters   \n",
       "1              2                  Holy Cross (Reilly Center)   \n",
       "2              3  Hartford Heights Volunteer Fire Department   \n",
       "3              4                    Beaver Valley Yacht Club   \n",
       "4              5               Our Lady of Joy, Holiday Park   \n",
       "\n",
       "         mycsv.venue_type                                mycsv.venue_address  \\\n",
       "0                  Market                4311 Northern Pike, Monroeville, PA   \n",
       "1                  Church                  7100 West Ridge Road, Fairview PA   \n",
       "2         Fire Department                     14335 U.S. 30, Irwin, PA 15642   \n",
       "3  Community Organization  219 Front Street, New Brighton, Pennsylvania 1...   \n",
       "4                  Church                 2000 O'Block Road Holiday Park, PA   \n",
       "\n",
       "                            mycsv.website  \\\n",
       "0        http://www.mcginnis-sisters.com/   \n",
       "1        http://www.mcginnis-sisters.com/   \n",
       "2         https://www.facebook.com/HHVFD/   \n",
       "3  https://www.beavervalleyyachtclub.org/   \n",
       "4             http://www.ourladyofjoy.org   \n",
       "\n",
       "                                      mycsv.menu_url  \\\n",
       "0                                               None   \n",
       "1                                               None   \n",
       "2  https://www.facebook.com/photo.php?fbid=188561...   \n",
       "3  https://www.facebook.com/photo.php?fbid=188561...   \n",
       "4  https://www.facebook.com/photo.php?fbid=188561...   \n",
       "\n",
       "                                     mycsv.menu_text     mycsv.phone  \\\n",
       "0                                               None    412-858-7000   \n",
       "1  Fried pollack, fried shrimp, or combo. Adult $...    814-474-2605   \n",
       "2  Fried pollack, fried shrimp, or combo. Adult $...    412-824-9972   \n",
       "3  Menu & Cost:\\nEat in or take out. Adult Fish D...  (724) 847-4663   \n",
       "4  Menu is a la carte, and features fried or bake...    412-795-3388   \n",
       "\n",
       "  mycsv.email mycsv.alcohol mycsv.lunch  \n",
       "0        None          None           1  \n",
       "1        None          None           1  \n",
       "2        None             1           0  \n",
       "3        None             1           1  \n",
       "4        None             1           1  "
      ]
     },
     "execution_count": 11,
     "metadata": {},
     "output_type": "execute_result"
    }
   ],
   "source": [
    "cursor.table(\"MyCSV\").df().head()"
   ]
  },
  {
   "cell_type": "code",
   "execution_count": null,
   "metadata": {},
   "outputs": [],
   "source": []
  }
 ],
 "metadata": {
  "kernelspec": {
   "display_name": "test_evadb",
   "language": "python",
   "name": "python3"
  },
  "language_info": {
   "codemirror_mode": {
    "name": "ipython",
    "version": 3
   },
   "file_extension": ".py",
   "mimetype": "text/x-python",
   "name": "python",
   "nbconvert_exporter": "python",
   "pygments_lexer": "ipython3",
   "version": "3.10.9"
  },
  "orig_nbformat": 4
 },
 "nbformat": 4,
 "nbformat_minor": 2
}
